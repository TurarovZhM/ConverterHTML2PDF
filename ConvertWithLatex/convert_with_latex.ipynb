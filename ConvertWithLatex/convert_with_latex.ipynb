{
 "cells": [
  {
   "cell_type": "code",
   "execution_count": 1,
   "metadata": {},
   "outputs": [],
   "source": [
    "import pdfkit as pdfkit\n",
    "import pandas as pd\n",
    "import os\n",
    "import numpy as np\n",
    "from bs4 import BeautifulSoup\n",
    "import codecs\n",
    "import html2latex"
   ]
  },
  {
   "cell_type": "code",
   "execution_count": 2,
   "metadata": {},
   "outputs": [],
   "source": [
    "path = \"/Users/zhomart/Documents/Fraunhofer/HTMLtoPDF/ConverterHTML2PDF/ConvertWithLatex\"\n",
    "pathOut = \"/Users/zhomart/Documents/Fraunhofer/HTMLtoPDF/ConverterHTML2PDF/ConvertWithLatex\""
   ]
  },
  {
   "cell_type": "code",
   "execution_count": 3,
   "metadata": {},
   "outputs": [],
   "source": [
    "html_files = ['MESHFREE.html']"
   ]
  },
  {
   "cell_type": "code",
   "execution_count": 4,
   "metadata": {},
   "outputs": [],
   "source": [
    "def changeLinksInDIV(div_text):\n",
    "    for link in div_text.findAll('a'):\n",
    "        # be careful not to change .pdf files links\n",
    "        txtlink = str(link.get('href')).strip()\n",
    "        if txtlink.endswith('.html') and (not txtlink.startswith('http')) and (not txtlink.startswith('www')):\n",
    "            # print(txtlink)\n",
    "            link['href'] = link['href'].replace(link['href'], '#' + link['href'])"
   ]
  },
  {
   "cell_type": "code",
   "execution_count": 5,
   "metadata": {},
   "outputs": [
    {
     "name": "stdout",
     "output_type": "stream",
     "text": [
      "MESHFREE.html\n"
     ]
    }
   ],
   "source": [
    "outputfile = open(path + \"/TEMP_MESHFREE2.html\", \"w+\")\n",
    "\n",
    "outputfile.write(\"\"\"<!doctype html>\n",
    "<html>\n",
    "<head>\n",
    "<meta charset=\"utf-8\">\n",
    "<meta http-equiv=\"X-UA-Compatible\" content=\"IE=edge\">\n",
    "<meta name=\"viewport\" content=\"width=device-width, initial-scale=1\">\n",
    "<meta name=\"description\" content=\"\">\n",
    "<meta name=\"author\" content=\"\">\n",
    "<link rel=\"icon\" href=\"search/image/favicon.ico\">\n",
    "<title>MESHFREEdocu</title>\n",
    "<link type='text/css' href=\"search/css/bootstrap.css\" >\n",
    "<link type='text/css' href=\"search/css/fraunhofer.css\">\n",
    "<script type='text/javascript' href=\"search/js/jquery-1.12.0.js\"></script>\n",
    "<script href=\"search/js/bootstrap.min.js\"></script>\n",
    "<script href=\"search/js/custom.js\"></script>\n",
    "\n",
    "<style>\n",
    "@media screen {\n",
    "    p, h2, h3 {\n",
    "        page-break-after: avoid;\n",
    "    } \n",
    "}\n",
    "</style>\n",
    "\n",
    "</head>\n",
    "<body>\"\"\")\n",
    "\n",
    "\n",
    "#file_text = codecs.open(path + '/MESHFREE3.html', 'r')\n",
    "#html_text = file_text.read()\n",
    "\n",
    "\n",
    "def convertHTML2PDF(html_files):\n",
    "    \n",
    "    for file in html_files:\n",
    "\n",
    "        print(file)\n",
    "\n",
    "        file_text = codecs.open(path + '/' + file, 'r')\n",
    "        html_text = file_text.read()\n",
    "\n",
    "        soup = BeautifulSoup(html_text, 'lxml')\n",
    "        div_fhwrapper = soup.find(\"div\", {\"class\": \"fh-wrapper\"})  # \"header\", \"class\": \"border-vertical\"})\n",
    "\n",
    "        #div_fhwrapper.find('div', {\"class\": \"header\"}).decompose()\n",
    "        #div_fhwrapper.find('div', {\"class\": \"footer-small visible-xs visible-sm\"}).decompose()\n",
    "\n",
    "        # adds # before link\n",
    "        changeLinksInDIV(div_fhwrapper)\n",
    "\n",
    "        #div_breadcrumbs = soup.find(\"div\", {\"class\": \"breadcrumbs\"})\n",
    "        #div_fhwrapper.attrs['style'] = \"page-break-before: always;\"\n",
    "\n",
    "        # sets id name to div\n",
    "        # it is necessary for anchor links\n",
    "        #div_breadcrumbs.attrs['id'] = 'MESHFREE.html' #str(file)\n",
    "\n",
    "        # style = \"display:block; clear:both; page-break-after:always;\"\n",
    "\n",
    "        #div_jumbotron = soup.find(\"div\", {\"class\": \"jumbotron\"})\n",
    "        #div_jumbotron.attrs['style'] = \"padding-top: 5px !important; padding-bottom: 10px !important; margin-bottom: 0px !important;\"\n",
    "\n",
    "        \"\"\"\n",
    "        div_note = soup.find(\"div\", {\"class\": \"code\"})\n",
    "        div_note.attrs['style'] = \"white-space: inherit !important;\"\n",
    "\n",
    "        div_code = soup.find(\"div\", {\"class\": \"note\"})\n",
    "        div_code.attrs['style'] = \"white-space: inherit !important;\"\n",
    "        \"\"\"\n",
    "\n",
    "\n",
    "        for x in div_fhwrapper.findAll('li'):\n",
    "            #print(x)\n",
    "            if len(x.get_text(strip=True)) == 0:\n",
    "                #print(x)\n",
    "                x.extract()\n",
    "\n",
    "        content = str(div_fhwrapper)\n",
    "\n",
    "\n",
    "        outputfile.write(content)\n",
    "\n",
    "convertHTML2PDF(html_files)\n",
    "\n",
    "outputfile.write(\"</body>\")\n",
    "outputfile.write(\"</html>\")\n",
    "outputfile.close()\n"
   ]
  },
  {
   "cell_type": "code",
   "execution_count": 6,
   "metadata": {},
   "outputs": [],
   "source": [
    "options = {\n",
    "    'page-size': 'A4',\n",
    "    'margin-top': '0.75in',\n",
    "    'margin-right': '0.75in',\n",
    "    'margin-bottom': '1.0in',\n",
    "    'margin-left': '0.75in',\n",
    "}"
   ]
  },
  {
   "cell_type": "code",
   "execution_count": 7,
   "metadata": {},
   "outputs": [
    {
     "name": "stdout",
     "output_type": "stream",
     "text": [
      "Loading pages (1/6)\n",
      "[>                                                           ] 0%\r",
      "[======>                                                     ] 10%\r",
      "[==============================>                             ] 50%\r",
      "[============================================================] 100%\r",
      "Counting pages (2/6)                                               \n",
      "[============================================================] Object 1 of 1\r",
      "Resolving links (4/6)                                                       \n",
      "[============================================================] Object 1 of 1\r",
      "Loading headers and footers (5/6)                                           \n",
      "Printing pages (6/6)\n",
      "[>                                                           ] Preparing\r",
      "[============================================================] Page 1 of 1\r",
      "Done                                                                      \n"
     ]
    },
    {
     "data": {
      "text/plain": [
       "True"
      ]
     },
     "execution_count": 7,
     "metadata": {},
     "output_type": "execute_result"
    }
   ],
   "source": [
    "css = [path + '/search/css/bootstrap.css', path + '/search/css/fraunhofer.css']\n",
    "config = pdfkit.configuration(wkhtmltopdf=\"/usr/local/bin/wkhtmltopdf\")\n",
    "pdfkit.from_file(path + '/TEMP_MESHFREE2.html', path + '/MESHFREE_test2.pdf', options=options, css=css)\n"
   ]
  },
  {
   "cell_type": "code",
   "execution_count": null,
   "metadata": {},
   "outputs": [],
   "source": []
  },
  {
   "cell_type": "code",
   "execution_count": 18,
   "metadata": {},
   "outputs": [
    {
     "ename": "NameError",
     "evalue": "name 'python' is not defined",
     "output_type": "error",
     "traceback": [
      "\u001b[0;31m---------------------------------------------------------------------------\u001b[0m",
      "\u001b[0;31mNameError\u001b[0m                                 Traceback (most recent call last)",
      "\u001b[0;32m<ipython-input-18-c35f0c3c3d43>\u001b[0m in \u001b[0;36m<module>\u001b[0;34m\u001b[0m\n\u001b[0;32m----> 1\u001b[0;31m \u001b[0mpython\u001b[0m \u001b[0;34m/\u001b[0m\u001b[0mexample\u001b[0m\u001b[0;34m.\u001b[0m\u001b[0mpy\u001b[0m \u001b[0;34m-\u001b[0m\u001b[0;34m-\u001b[0m\u001b[0mstyle\u001b[0m \u001b[0;34m/\u001b[0m\u001b[0msearch\u001b[0m\u001b[0;34m/\u001b[0m\u001b[0mcss\u001b[0m\u001b[0;34m/\u001b[0m\u001b[0mstylesheet\u001b[0m\u001b[0;34m.\u001b[0m\u001b[0mcss\u001b[0m \u001b[0;34m-\u001b[0m\u001b[0;34m-\u001b[0m\u001b[0minput\u001b[0m \u001b[0;34m/\u001b[0m\u001b[0mTEMP_MESHFREE2\u001b[0m\u001b[0;34m.\u001b[0m\u001b[0mhtml\u001b[0m \u001b[0;34m-\u001b[0m\u001b[0;34m-\u001b[0m\u001b[0moutput\u001b[0m \u001b[0;34m/\u001b[0m\u001b[0mdocument\u001b[0m\u001b[0;34m.\u001b[0m\u001b[0mtex\u001b[0m\u001b[0;34m\u001b[0m\u001b[0;34m\u001b[0m\u001b[0m\n\u001b[0m",
      "\u001b[0;31mNameError\u001b[0m: name 'python' is not defined"
     ]
    }
   ],
   "source": [
    "python /example.py --style /search/css/stylesheet.css --input /TEMP_MESHFREE2.html --output /document.tex"
   ]
  },
  {
   "cell_type": "code",
   "execution_count": null,
   "metadata": {},
   "outputs": [],
   "source": []
  },
  {
   "cell_type": "code",
   "execution_count": null,
   "metadata": {},
   "outputs": [],
   "source": []
  }
 ],
 "metadata": {
  "kernelspec": {
   "display_name": "Python 3",
   "language": "python",
   "name": "python3"
  },
  "language_info": {
   "codemirror_mode": {
    "name": "ipython",
    "version": 3
   },
   "file_extension": ".py",
   "mimetype": "text/x-python",
   "name": "python",
   "nbconvert_exporter": "python",
   "pygments_lexer": "ipython3",
   "version": "3.7.6"
  }
 },
 "nbformat": 4,
 "nbformat_minor": 4
}
