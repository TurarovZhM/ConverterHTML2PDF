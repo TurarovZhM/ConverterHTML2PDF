{
 "cells": [
  {
   "cell_type": "code",
   "execution_count": 2,
   "metadata": {},
   "outputs": [],
   "source": [
    "import pdfkit as pdfkit\n",
    "import pandas as pd\n",
    "import os\n",
    "import numpy as np\n",
    "from bs4 import BeautifulSoup\n",
    "import codecs\n",
    "import html2latex"
   ]
  },
  {
   "cell_type": "code",
   "execution_count": 2,
   "metadata": {},
   "outputs": [],
   "source": [
    "path = \"/Users/zhomart/Documents/Fraunhofer/HTMLtoPDF/ConverterHTML2PDF/ConvertWithLatex\"\n",
    "pathOut = \"/Users/zhomart/Documents/Fraunhofer/HTMLtoPDF/ConverterHTML2PDF/ConvertWithLatex\""
   ]
  },
  {
   "cell_type": "code",
   "execution_count": null,
   "metadata": {},
   "outputs": [],
   "source": []
  },
  {
   "cell_type": "code",
   "execution_count": 87,
   "metadata": {},
   "outputs": [],
   "source": [
    "def changeLinksInDIV(div_text):\n",
    "    for link in div_text.findAll('a'):\n",
    "        # be careful not to change .pdf files links\n",
    "        txtlink = str(link.get('href')).strip()\n",
    "        if txtlink.endswith('.html') and (not txtlink.startswith('http')) and (not txtlink.startswith('www')):\n",
    "            # print(txtlink)\n",
    "            link['href'] = link['href'].replace(link['href'], '#' + link['href'])"
   ]
  },
  {
   "cell_type": "code",
   "execution_count": 88,
   "metadata": {},
   "outputs": [],
   "source": [
    "#file_text = codecs.open(path + '/MESHFREE2.html', 'r')\n",
    "#html_text = file_text.read()\n"
   ]
  },
  {
   "cell_type": "code",
   "execution_count": 99,
   "metadata": {},
   "outputs": [],
   "source": [
    "outputfile = open(path + \"/TEMP_MESHFREE2.html\", \"w+\")\n",
    "\n",
    "outputfile.write(\"\"\"<!doctype html>\n",
    "<html>\n",
    "<head>\n",
    "<meta charset=\"utf-8\">\n",
    "<meta http-equiv=\"X-UA-Compatible\" content=\"IE=edge\">\n",
    "<meta name=\"viewport\" content=\"width=device-width, initial-scale=1\">\n",
    "<meta name=\"description\" content=\"\">\n",
    "<meta name=\"author\" content=\"\">\n",
    "<link rel=\"icon\" href=\"search/image/favicon.ico\">\n",
    "<title>MESHFREEdocu</title>\n",
    "<link type='text/css' href=\"file:///search/css/bootstrap.css\" >\n",
    "<link type='text/css' href=\"file:///search/css/fraunhofer.css\">\n",
    "<script type='text/javascript' href=\"file:///search/js/jquery-1.12.0.js\"></script>\n",
    "<script href=\"file:///search/js/bootstrap.min.js\"></script>\n",
    "<script href=\"file:///search/js/custom.js\"></script>\n",
    "\n",
    "<style>\n",
    "@media screen {\n",
    "    .fh-wrapper, p, h2, h3 {\n",
    "        display: block;\n",
    "        page-break-after: always;\n",
    "    } \n",
    "}\n",
    "</style>\n",
    "\n",
    "</head>\n",
    "<body>\"\"\")\n",
    "\n",
    "\n",
    "file_text = codecs.open(path + '/MESHFREE3.html', 'r')\n",
    "html_text = file_text.read()\n",
    "\n",
    "soup = BeautifulSoup(html_text, 'lxml')\n",
    "div_fhwrapper = soup.find(\"div\", {\"class\": \"fh-wrapper\"})  # \"header\", \"class\": \"border-vertical\"})\n",
    "\n",
    "div_fhwrapper.find('div', {\"class\": \"header\"}).decompose()\n",
    "div_fhwrapper.find('div', {\"class\": \"footer-small visible-xs visible-sm\"}).decompose()\n",
    "\n",
    "# adds # before link\n",
    "changeLinksInDIV(div_fhwrapper)\n",
    "\n",
    "div_breadcrumbs = soup.find(\"div\", {\"class\": \"breadcrumbs\"})\n",
    "#div_fhwrapper.attrs['style'] = \"page-break-before: always;\"\n",
    "\n",
    "# sets id name to div\n",
    "# it is necessary for anchor links\n",
    "div_breadcrumbs.attrs['id'] = 'MESHFREE.html' #str(file)\n",
    "\n",
    "# style = \"display:block; clear:both; page-break-after:always;\"\n",
    "\n",
    "div_jumbotron = soup.find(\"div\", {\"class\": \"jumbotron\"})\n",
    "div_jumbotron.attrs['style'] = \"padding-top: 5px !important; padding-bottom: 10px !important; margin-bottom: 0px !important;\"\n",
    "\n",
    "\"\"\"\n",
    "div_note = soup.find(\"div\", {\"class\": \"code\"})\n",
    "div_note.attrs['style'] = \"white-space: inherit !important;\"\n",
    "\n",
    "div_code = soup.find(\"div\", {\"class\": \"note\"})\n",
    "div_code.attrs['style'] = \"white-space: inherit !important;\"\n",
    "\"\"\"\n",
    "\n",
    "\n",
    "for x in div_fhwrapper.findAll('li'):\n",
    "    #print(x)\n",
    "    if len(x.get_text(strip=True)) == 0:\n",
    "        #print(x)\n",
    "        x.extract()\n",
    "\n",
    "content = str(div_fhwrapper)\n",
    "\n",
    "\n",
    "outputfile.write(content)\n",
    "\n",
    "outputfile.write(\"</body>\")\n",
    "outputfile.write(\"</html>\")\n",
    "outputfile.close()\n"
   ]
  },
  {
   "cell_type": "code",
   "execution_count": 100,
   "metadata": {},
   "outputs": [],
   "source": [
    "options = {\n",
    "    'page-size': 'A4',\n",
    "    'margin-top': '0.75in',\n",
    "    'margin-right': '0.75in',\n",
    "    'margin-bottom': '1.0in',\n",
    "    'margin-left': '0.75in',\n",
    "}"
   ]
  },
  {
   "cell_type": "code",
   "execution_count": 102,
   "metadata": {},
   "outputs": [
    {
     "name": "stdout",
     "output_type": "stream",
     "text": [
      "Loading pages (1/6)\n",
      "[>                                                           ] 0%\r",
      "[======>                                                     ] 10%\r",
      "[==============================>                             ] 50%\r",
      "[============================================================] 100%\r",
      "Counting pages (2/6)                                               \n",
      "[============================================================] Object 1 of 1\r",
      "Resolving links (4/6)                                                       \n",
      "[============================================================] Object 1 of 1\r",
      "Loading headers and footers (5/6)                                           \n",
      "Printing pages (6/6)\n",
      "[>                                                           ] Preparing\r",
      "[==============================>                             ] Page 1 of 2\r",
      "[============================================================] Page 2 of 2\r",
      "Done                                                                      \n"
     ]
    },
    {
     "data": {
      "text/plain": [
       "True"
      ]
     },
     "execution_count": 102,
     "metadata": {},
     "output_type": "execute_result"
    }
   ],
   "source": [
    "css = [path + '/search/css/bootstrap.css', path + '/search/css/fraunhofer.css']\n",
    "#config = pdfkit.configuration(wkhtmltopdf=\"/usr/local/bin/wkhtmltopdf\")\n",
    "pdfkit.from_file(path + '/TEMP_MESHFREE2.html', path + '/MESHFREE_test2.pdf', options=options, css=css)\n"
   ]
  },
  {
   "cell_type": "code",
   "execution_count": null,
   "metadata": {},
   "outputs": [],
   "source": []
  },
  {
   "cell_type": "code",
   "execution_count": null,
   "metadata": {},
   "outputs": [],
   "source": []
  },
  {
   "cell_type": "code",
   "execution_count": 73,
   "metadata": {},
   "outputs": [
    {
     "data": {
      "text/plain": [
       "'<div class=\"fh-wrapper\">\\n<div class=\"header\">\\n<div class=\"row visible-xs\" id=\"main-menu-top\">\\n<div class=\"row search-nav-icon\">\\n<div class=\"col-md-12\">\\n<!-- for search and navigation icon -->\\n<div class=\"nav-top-btn\" id=\"nav-top\"></div>\\n<div class=\"search-icon\" id=\"search-btn-index-top-icon\"></div>\\n</div>\\n</div>\\n<div class=\"row\">\\n<div class=\"col-md-12\">\\n<nav class=\"navbar navbar-inverse\">\\n<div class=\"navbar-header\">\\n<button aria-controls=\"navbar\" aria-expanded=\"false\" class=\"navbar-toggle collapsed\" data-target=\"#navbar\" data-toggle=\"collapse\" type=\"button\">\\n<span class=\"sr-only\">Toggle navigation</span>\\n<span class=\"icon-bar\"></span>\\n<span class=\"icon-bar\"></span>\\n<span class=\"icon-bar\"></span>\\n</button>\\n</div>\\n<div class=\"navbar navbar-light bg-faded collapse navbar-collapse\" id=\"navbar\">\\n<ul class=\"nav navbar-nav\">\\n<li class=\"nav-item\">\\n<a class=\"nav-link\" href=\"file:///#MESHFREE.InputFiles.html\" target=\"_blank\">Input Files</a>\\n</li>\\n<li class=\"nav-item\">\\n<a class=\"nav-link\" href=\"file:///#MESHFREE.Indices.html\" target=\"_blank\">Indices</a>\\n</li>\\n<li class=\"nav-item\">\\n<a class=\"nav-link\" href=\"file:///#MESHFREE.GettingStarted.html\" target=\"_blank\">Getting Started</a>\\n</li>\\n<li class=\"nav-item\">\\n<a class=\"nav-link\" href=\"file:///#MESHFREE.Download.html\" target=\"_blank\">Download</a>\\n</li>\\n<li class=\"nav-item\">\\n<a class=\"nav-link\" href=\"file:///#MESHFREE.Support.html\" target=\"_blank\">Support</a>\\n</li>\\n</ul>\\n</div>\\n</nav>\\n</div>\\n<div class=\"search-top\">\\n<form id=\"search-form-index-top\">\\n<input autocomplete=\"off\" class=\"query-string\" id=\"search-text-index-top\" name=\"queryString\" placeholder=\"Search\" type=\"text\" value=\"\"/>\\n<button class=\"btn\" id=\"search-btn-index-top\" type=\"submit\"></button>\\n</form>\\n</div>\\n</div>\\n</div>\\n<div class=\"row header-row\">\\n<div class=\"col-sm-4\">\\n<div class=\"row\">\\n<a href=\"file:///#MESHFREE.html\">\\n<img alt=\"\" class=\"logo img-responsive\" src=\"search/image/MESHFREE_Logo.png\"/>\\n</a>\\n</div>\\n<div class=\"row company_name\">\\n\\t\\t\\t\\t\\t\\tSimulate with complex geometries and complex physics\\n\\t\\t\\t\\t\\t</div>\\n</div>\\n<div class=\"col-sm-8\">\\n<div class=\"row header-search-row hidden-xs\">\\n<div class=\"search\">\\n<form id=\"search-form-index-header\">\\n<input autocomplete=\"off\" class=\"query-string\" id=\"search-text-index-header\" name=\"queryString\" placeholder=\"Search\" type=\"text\" value=\"\"/>\\n<button class=\"btn\" id=\"search-btn-index-header\" type=\"submit\"><i class=\"glyphicon glyphicon-search\"></i></button>\\n</form>\\n</div>\\n</div>\\n<div class=\"row main_menu hidden-xs\" id=\"main-menu-bottom\">\\n<nav class=\"navbar navbar-inverse\">\\n<div class=\"navbar-header\">\\n<button aria-controls=\"navbar\" aria-expanded=\"false\" class=\"navbar-toggle collapsed\" data-target=\"#navbar\" data-toggle=\"collapse\" type=\"button\">\\n<span class=\"sr-only\">Toggle navigation</span>\\n<span class=\"icon-bar\"></span>\\n<span class=\"icon-bar\"></span>\\n<span class=\"icon-bar\"></span>\\n</button>\\n</div>\\n<div class=\"navbar navbar-light bg-faded collapse navbar-collapse\" id=\"navbar\">\\n<ul class=\"nav navbar-nav\">\\n<li class=\"nav-item\">\\n<a class=\"nav-link\" href=\"file:///#MESHFREE.InputFiles.html\" target=\"_blank\">Input Files</a>\\n</li>\\n<li class=\"nav-item\">\\n<a class=\"nav-link\" href=\"file:///#MESHFREE.Indices.html\" target=\"_blank\">Indices</a>\\n</li>\\n<li class=\"nav-item\">\\n<a class=\"nav-link\" href=\"file:///#MESHFREE.GettingStarted.html\" target=\"_blank\">Getting Started</a>\\n</li>\\n<li class=\"nav-item\">\\n<a class=\"nav-link\" href=\"file:///#MESHFREE.Download.html\" target=\"_blank\">Download</a>\\n</li>\\n<li class=\"nav-item\">\\n<a class=\"nav-link\" href=\"file:///#MESHFREE.Support.html\" target=\"_blank\">Support</a>\\n</li>\\n</ul>\\n</div>\\n</nav>\\n</div>\\n</div>\\n</div>\\n</div>\\n<div class=\"breadcrumbs\" id=\"MESHFREE.html\">\\n<div class=\"row breadcrumb\">\\n<div class=\"col-md-12\">\\n<ul>\\n<li><a href=\"file:///#MESHFREE.html\">MESHFREE</a></li>\\n</ul>\\n</div>\\n</div>\\n</div>\\n<div class=\"border-vertical\">\\n<div class=\"row\">\\n<div class=\"col-md-12 content\">\\n<div class=\"jumbotron\" style=\"padding-top: 5px !important; padding-bottom: 10px !important; margin-bottom: 0px !important;\">\\n<h1>MESHFREE</h1><p> Online Documentation for MESHFREE </p>\\n</div>\\n<div class=\"description\">\\n<h2 class=\"customh2\"> General information </h2>\\n<p> The original method is called\\n\\t\\t\\t\\t  <a href=\" https://www.itwm.fraunhofer.de/en/departments/tv/grid-free-methods.html \">Finite Pointset Method (FPM)</a>\\n\\t\\t\\t\\t  and is an originary development of the\\n\\t\\t\\t\\t  <a href=\" https://www.itwm.fraunhofer.de/en.html \">Fraunhofer Institute for Industrial Mathematics ITWM</a>.\\n\\t\\t\\t\\t  The software <b>MESHFREE</b> couples FPM and the\\n\\t\\t\\t\\t  <a href=\" https://www.scai.fraunhofer.de/en/products/software-samg.html \">algebraic multigrid method implemented in SAMG</a>,\\n\\t\\t\\t\\t  an originary development of the\\n\\t\\t\\t\\t  <a href=\" https://www.scai.fraunhofer.de/en.html \">Fraunhofer Institute for Algorithms and Scientific Computing SCAI</a>.\\n\\t\\t\\t\\t  </p>\\n<p> FPM is the deprecated name of the numerical simulation idea, publications of which can be found for example in\\n\\t\\t\\t\\t  <a href=\" https://www.meshfree.eu/en/publications.html \">https://www.meshfree.eu/en/publications.html</a>.\\n\\t\\t\\t\\t  Now and the in future, we prefer the name <em> Generalized Finite Difference Method (GFDM)</em>,\\n\\t\\t\\t\\t  as this states exactly the character of the method\\n\\t\\t\\t\\t  and avoids confusion with other ideas, also abbreviated as FPM. </p>\\n<p> Note that FPM is still the name of several commercial software-instances outside of ITWM, putting the original FPM-ideas into practice. </p>\\n<p> <b>MESHFREElite</b> is the original FPM-software without SAMG. </p>\\n<h2 class=\"customh2\"> How to use <a href=\"file:///#MESHFREE.html\">MESHFREE</a> </h2> <ul><li> <p> <a href=\"file:///#MESHFREE.InstallationGuide.html\">InstallationGuide</a>: install the software\\n\\t\\t\\t\\t  </p> </li><li> <p> <a href=\"file:///#MESHFREE.GettingStarted.html\">GettingStarted</a>: first steps with <a href=\"file:///#MESHFREE.html\">MESHFREE</a>\\n</p> </li><li> <p> <a href=\"file:///#MESHFREE.Releases.html\">Releases</a>: stay up-to-date with new/current developments\\n\\t\\t\\t\\t  </p> </li><li> <p> <a href=\"file:///#MESHFREE.InputFiles.html\">InputFiles</a>: quick reference to all items and functionalities provided to the user\\n\\t\\t\\t\\t  </p> </li><li> <p> <a href=\"file:///#MESHFREE.Indices.html\">Indices</a> and <a href=\"file:///#MESHFREE.__Constants__.html\">__Constants__</a>: quick reference to all predefined variables and constants\\n\\t\\t\\t\\t  </p> </li><li> <p> <a href=\"file:///#MESHFREE.RunTimeTools.html\">RunTimeTools</a>: communication with a running simulation, performance measurements\\n\\t\\t\\t\\t  </p> </li><li> <p> <a href=\"file:///#MESHFREE.Solvers.html\">Solvers</a>: underlying mathematical and numerical models\\n\\t\\t\\t\\t  </p><p> </p></li><li> <p> <a href=\"file:///#MESHFREE.Interfaces.html\">Interfaces</a>: overview of possible couplings of <a href=\"file:///#MESHFREE.html\">MESHFREE</a> with other tools\\n\\t\\t\\t\\t  </p> </li><li> <p> <a href=\"file:///#MESHFREE.MESHFREEdocu.html\">MESHFREEdocu</a>: quick reference for developers, how to contribute to this documentation\\n\\t\\t\\t\\t  </p> </li><li> <p> information on how to compile <a href=\"file:///#MESHFREE.html\">MESHFREE</a> at ITWM moved to <a href=\" https://gitlab.itwm.fraunhofer.de/FPM/FPMsoftwareF95 \">FPMsoftwareF95</a>\\n\\t\\t\\t\\t  (information on how to work with git can be found here: <a href=\" https://publicwiki-01.fraunhofer.de/FPM_Group/index.php/Version_Control_with_GIT \">Version Control with GIT</a>)\\n\\t\\t\\t\\t  </p> </li><li> <a href=\"file:///#MESHFREE.Windows.html\">Windows</a> version: collection of information\\n\\t\\t\\t\\t   </li></ul>\\n<h2 class=\"customh2\"> Highlights </h2>\\n<p> Useful insight into <a href=\"file:///#MESHFREE.PerformanceOptimization.html\">PerformanceOptimization</a> concerning geometry operations. </p>\\n</div>\\n</div>\\n</div>\\n</div>\\n<div class=\"blank-class-outer-top\">\\n<div class=\"border-vertical\">\\n<div class=\"row reference\">\\n<div class=\"col-md-12\">\\n<div class=\"table-responsive\">\\n<table class=\"table\">\\n<tr><th>List of members: </th><th></th></tr>\\n<tr><td><a href=\"file:///#MESHFREE.__Constants__.html\">__Constants__</a></td> <td>  typical %...%-constants that can be used in the input files </td></tr>\\n<tr><td><a href=\"file:///#MESHFREE.Development.html\">Development</a></td> <td>  INTERNAL PAGE: ideas of further software/method development </td></tr>\\n<tr><td><a href=\"file:///#MESHFREE.Download.html\">Download</a></td> <td>  Download executables, documentation and examples  </td></tr>\\n<tr><td><a href=\"file:///#MESHFREE.GettingStarted.html\">GettingStarted</a></td> <td>  first steps with MESHFREE </td></tr>\\n<tr><td><a href=\"file:///#MESHFREE.Indices.html\">Indices</a></td> <td>  MESHFREE indices for simulation entities </td></tr>\\n<tr><td><a href=\"file:///#MESHFREE.InputFiles.html\">InputFiles</a></td> <td>  Input files used for steering MESHFREE </td></tr>\\n<tr><td><a href=\"file:///#MESHFREE.InstallationGuide.html\">InstallationGuide</a></td> <td>  Installation of MESHFREE </td></tr>\\n<tr><td><a href=\"file:///#MESHFREE.Interfaces.html\">Interfaces</a></td> <td>  Interfaces to other simulation tools </td></tr>\\n<tr><td><a href=\"file:///#MESHFREE.MESHFREEdocu.html\">MESHFREEdocu</a></td> <td>  reference based documentation of the MESHFREE code and MESHFREE functionality </td></tr>\\n<tr><td><a href=\"file:///#MESHFREE.PerformanceOptimization.html\">PerformanceOptimization</a></td> <td>  useful insight into performance optimization </td></tr>\\n<tr><td><a href=\"file:///#MESHFREE.Releases.html\">Releases</a></td> <td>  Information on the MESHFREE releases </td></tr>\\n<tr><td><a href=\"file:///#MESHFREE.RunTimeTools.html\">RunTimeTools</a></td> <td>  tools regarding the run time </td></tr>\\n<tr><td><a href=\"file:///#MESHFREE.Solvers.html\">Solvers</a></td> <td>  Overview of numerical and geometrical algorithms used in MESHFREE </td></tr>\\n<tr><td><a href=\"file:///#MESHFREE.Support.html\">Support</a></td> <td>  How to contact the Support Team </td></tr>\\n<tr><td><a href=\"file:///#MESHFREE.Windows.html\">Windows</a></td> <td>  collection of information on Windows version </td></tr>\\n</table>\\n</div>\\n</div>\\n</div>\\n</div>\\n</div>\\n<div class=\"blank-class-outer-top footer\">\\n<div class=\"border-vertical\">\\n<div class=\"row\">\\n<div class=\"col-md-12 comprehensive-example\">\\nSource file of this page: <a href=\"../../FPM_src/FPM_main/FPM_main.f90\">../../FPM_src/FPM_main/FPM_main.f90</a>\\n</div>\\n</div>\\n</div>\\n</div>\\n<div class=\"blank-class-outer footer visible-md visible-lg\">\\n<div class=\"border-vertical\">\\n<div class=\"row\">\\n<div class=\"col-md-6\">\\n<a href=\"http://itwm.fraunhofer.de\" target=\"_blank\">&amp;copy 2020 Fraunhofer Institute for Industrial Mathematics ITWM</a>\\n</div>\\n<div class=\"col-md-2 footer-border-left\">\\n<a href=\"file:///#Index.html\" target=\"_blank\">Index</a>\\n</div>\\n<div class=\"col-md-2 footer-border-left\">\\n<a href=\"file:///#MESHFREE.Releases.html\" target=\"_blank\">Releases</a>\\n</div>\\n<div class=\"col-md-2 footer-border-left\">\\n<a href=\"https://svn.itwm.fraunhofer.de/svn/MESHFREEdocu/Executables/\" target=\"_blank\">Executables</a>\\n</div>\\n</div>\\n</div>\\n</div>\\n<div class=\"footer-small visible-xs visible-sm\">\\n<div class=\"blank-class-outer\">\\n<div class=\"blank-class-inner\">\\n<div class=\"row\">\\n<div class=\"col-md-12\">\\n<a href=\"file:///#Index.html\" target=\"_blank\">Index</a>\\n</div>\\n</div>\\n</div>\\n</div>\\n<div class=\"blank-class-outer-bottom\">\\n<div class=\"blank-class-inner\">\\n<div class=\"row\">\\n<div class=\"col-md-12\">\\n<a href=\"file:///#MESHFREE.Releases.html\" target=\"_blank\">Releases</a>\\n</div>\\n</div>\\n</div>\\n</div>\\n<div class=\"blank-class-outer-bottom\">\\n<div class=\"blank-class-inner\">\\n<div class=\"row\">\\n<div class=\"col-md-12\">\\n<a href=\"https://svn.itwm.fraunhofer.de/svn/MESHFREEdocu/Executables/\" target=\"_blank\">Executables</a>\\n</div>\\n</div>\\n</div>\\n</div>\\n<div class=\"blank-class-outer-left-right\">\\n<div class=\"blank-class-inner\">\\n<div class=\"row\">\\n<div class=\"col-md-12\">\\n<a href=\"http://itwm.fraunhofer.de\" target=\"_blank\">&amp;copy 2020 Fraunhofer Institute for Industrial Mathematics ITWM</a>\\n</div>\\n</div>\\n</div>\\n</div>\\n</div>\\n</div>'"
      ]
     },
     "execution_count": 73,
     "metadata": {},
     "output_type": "execute_result"
    }
   ],
   "source": [
    "content"
   ]
  },
  {
   "cell_type": "code",
   "execution_count": null,
   "metadata": {},
   "outputs": [],
   "source": []
  },
  {
   "cell_type": "code",
   "execution_count": null,
   "metadata": {},
   "outputs": [],
   "source": [
    "\n",
    "path = \"/Users/zhomart/Documents/Fraunhofer/HTMLtoPDF/ConverterHTML2PDF/WebDocumentation\"\n",
    "\n",
    "meshfree_file = codecs.open(path + '/MESHFREE.html', 'r')\n",
    "meshfree_text = meshfree_file.read()\n",
    "\n",
    "meshfree_soup = BeautifulSoup(meshfree_text, 'lxml')\n",
    "div_footer = meshfree_soup.find(\"div\", {\"class\": \"footer-small visible-xs visible-sm\"})\n",
    "changeLinksInDIV(div_footer)\n",
    "content_footer = str(div_footer)\n",
    "#print(content_footer)\n",
    "meshfree_file.close()"
   ]
  },
  {
   "cell_type": "code",
   "execution_count": null,
   "metadata": {},
   "outputs": [],
   "source": []
  }
 ],
 "metadata": {
  "kernelspec": {
   "display_name": "Python 3",
   "language": "python",
   "name": "python3"
  },
  "language_info": {
   "codemirror_mode": {
    "name": "ipython",
    "version": 3
   },
   "file_extension": ".py",
   "mimetype": "text/x-python",
   "name": "python",
   "nbconvert_exporter": "python",
   "pygments_lexer": "ipython3",
   "version": "3.7.6"
  }
 },
 "nbformat": 4,
 "nbformat_minor": 4
}
