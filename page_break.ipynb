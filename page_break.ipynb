{
 "cells": [
  {
   "cell_type": "code",
   "execution_count": 50,
   "metadata": {},
   "outputs": [],
   "source": [
    "import pdfkit as pdfkit\n",
    "import pandas as pd\n",
    "import os\n",
    "import numpy as np\n",
    "from bs4 import BeautifulSoup\n",
    "import codecs\n",
    "import base64\n",
    "import shutil"
   ]
  },
  {
   "cell_type": "code",
   "execution_count": 47,
   "metadata": {},
   "outputs": [
    {
     "data": {
      "text/plain": [
       "'\\n../DifferentialOperators/DOCUMATH_DifferentialOperators.pdf\\n../GeometryAlgorithms/DOCUMATH_RigidBodyCollisions.pdf\\n../GeometryAlgorithms/DOCUMATH_VoronoiFace.pdf\\n../Gasdynamics/DOCUMATH_NumericalIntegrationOfTurbulence.pdf\\n../Gasdynamics/DOCUMATH_DerivationOfEnergyEquationWithTurbulence.pdf\\n../StressTensor/DOCUMATH_StressTensor_TimeIntegration.pdf\\n../Incompressible/DOCUMATH_GeneralNumericalScheme.pdf\\n../Incompressible/DOCUMATH_GeneralNumericalScheme.pdf\\n'"
      ]
     },
     "execution_count": 47,
     "metadata": {},
     "output_type": "execute_result"
    }
   ],
   "source": [
    "path = \"/Users/zhomart/Documents/Fraunhofer/HTMLtoPDF/ConverterHTML2PDF\"\n",
    "pathRef = \"/Users/zhomart/Documents/Fraunhofer/HTMLtoPDF/ConverterHTML2PDF/WebDocumentation/Reference/\"\n",
    "\"\"\"\n",
    "../DifferentialOperators/DOCUMATH_DifferentialOperators.pdf\n",
    "../GeometryAlgorithms/DOCUMATH_RigidBodyCollisions.pdf\n",
    "../GeometryAlgorithms/DOCUMATH_VoronoiFace.pdf\n",
    "../Gasdynamics/DOCUMATH_NumericalIntegrationOfTurbulence.pdf\n",
    "../Gasdynamics/DOCUMATH_DerivationOfEnergyEquationWithTurbulence.pdf\n",
    "../StressTensor/DOCUMATH_StressTensor_TimeIntegration.pdf\n",
    "../Incompressible/DOCUMATH_GeneralNumericalScheme.pdf\n",
    "../Incompressible/DOCUMATH_GeneralNumericalScheme.pdf\n",
    "\"\"\""
   ]
  },
  {
   "cell_type": "code",
   "execution_count": 55,
   "metadata": {},
   "outputs": [],
   "source": [
    "if not os.path.exists(pathRef):\n",
    "    os.makedirs(pathRef)\n",
    "\n",
    "pdf_file_name = './Gasdynamics/DOCUMATH_NumericalIntegrationOfTurbulence.pdf'\n",
    "\n",
    "filename = pdf_file_name.split(\"/\")[-1]\n",
    "\n",
    "#shutil.copy(pdf_file_name, os.path.join(pathRef, filename))"
   ]
  },
  {
   "cell_type": "code",
   "execution_count": 43,
   "metadata": {},
   "outputs": [
    {
     "ename": "SyntaxError",
     "evalue": "invalid syntax (<ipython-input-43-23e96956165e>, line 5)",
     "output_type": "error",
     "traceback": [
      "\u001b[0;36m  File \u001b[0;32m\"<ipython-input-43-23e96956165e>\"\u001b[0;36m, line \u001b[0;32m5\u001b[0m\n\u001b[0;31m    if txtlink.endswith('.pdf')\u001b[0m\n\u001b[0m                               ^\u001b[0m\n\u001b[0;31mSyntaxError\u001b[0m\u001b[0;31m:\u001b[0m invalid syntax\n"
     ]
    }
   ],
   "source": [
    "def changeLinksInDIV(div_text):\n",
    "    for link in div_text.findAll('a'):\n",
    "        # be careful not to change .pdf files links\n",
    "        txtlink = str(link.get('href')).strip()\n",
    "        if txtlink.endswith('.pdf'):\n",
    "            print(txtlink)\n",
    "        \n",
    "        if txtlink.endswith('.html') and (not txtlink.startswith('http')) and (not txtlink.startswith('www')):\n",
    "            # print(txtlink)\n",
    "            link['href'] = link['href'].replace(link['href'], '#' + link['href'])"
   ]
  },
  {
   "cell_type": "code",
   "execution_count": 6,
   "metadata": {},
   "outputs": [],
   "source": [
    "\n",
    "\n",
    "\n",
    "def get_image_file_as_base64_data(div_text):\n",
    "    for img in div_text.findAll('img'):\n",
    "        txt_img = str(img.get('src')).strip()\n",
    "        #print(txt_img)\n",
    "        \n",
    "        if not txt_img.startswith('..'):\n",
    "            txt_img = path + '/'+txt_img\n",
    "        \n",
    "        if txt_img.endswith('.png'):\n",
    "            with open(txt_img, 'rb') as image_file:\n",
    "                b64_str =  base64.b64encode(image_file.read()).decode()\n",
    "                img['src'] = img['src'].replace(img['src'], 'data:image/png;base64,'+str(b64_str))\n",
    "                #encoded = base64.b64encode(b64_str)\n",
    "        if txt_img.endswith('.jpg') or txt_img.endswith('.jpeg'):\n",
    "            with open(txt_img, 'rb') as image_file:\n",
    "                b64_str =  base64.b64encode(image_file.read()).decode()\n",
    "                img['src'] = img['src'].replace(img['src'], 'data:image/jpeg;base64,'+str(b64_str))\n",
    "                #encoded = base64.b64encode(b64_str)\n",
    "    #print(str(b64_str))"
   ]
  },
  {
   "cell_type": "code",
   "execution_count": 38,
   "metadata": {},
   "outputs": [],
   "source": [
    "outputfile = open(path + \"/TEMP_MESHFREE1.html\", \"w+\")\n",
    "\n",
    "outputfile.write(\"\"\"<!doctype html>\n",
    "<html>\n",
    "<head>\n",
    "<meta charset=\"utf-8\">\n",
    "<meta http-equiv=\"X-UA-Compatible\" content=\"IE=edge\">\n",
    "<meta name=\"viewport\" content=\"width=device-width, initial-scale=1\">\n",
    "<meta name=\"description\" content=\"\">\n",
    "<meta name=\"author\" content=\"\">\n",
    "<link rel=\"icon\" href=\"search/image/favicon.ico\">\n",
    "<title>MESHFREEdocu</title>\n",
    "<link type='text/css' href=\"search/css/bootstrap.css\" >\n",
    "<link type='text/css' href=\"search/css/fraunhofer.css\">\n",
    "<script type='text/javascript' href=\"search/js/jquery-1.12.0.js\"></script>\n",
    "<script href=\"search/js/bootstrap.min.js\"></script>\n",
    "<script href=\"search/js/custom.js\"></script>\n",
    "\n",
    "<style>\n",
    "*{\n",
    "    border-left:#fff !important;\n",
    "    border-right:#fff !important;\n",
    "}\n",
    "\n",
    ".description p {\n",
    "  max-width: none !important;\n",
    "}\n",
    "\n",
    "\n",
    "@media print {\n",
    "  h2, h3, p {page-break-inside: avoid;}\n",
    "}\n",
    "\n",
    "@media print\n",
    "{\n",
    "  table { page-break-after:auto ;\n",
    "      overflow-x: hidden;\n",
    "      display:block;\n",
    "  }\n",
    "  \n",
    "  tr    { page-break-inside:avoid; page-break-after:auto }\n",
    "  td    { page-break-inside:avoid; page-break-after:auto }\n",
    "  thead { display:table-header-group }\n",
    "  tfoot { display:table-footer-group }\n",
    "}\n",
    "\n",
    "</style>\n",
    "\n",
    "</head>\n",
    "<body>\"\"\")\n",
    "\n",
    "# Header\n",
    "file_header = codecs.open(path + '/MESHFREE2.html', 'r')\n",
    "html_header = file_header.read()\n",
    "\n",
    "soup_header = BeautifulSoup(html_header, 'lxml')\n",
    "div_header = soup_header.find(\"div\", {\"class\": \"header\"})\n",
    "\n",
    "changeLinksInDIV(div_header)\n",
    "\n",
    "for div in div_header.find_all('div', class_='row'):\n",
    "    pos = div.attrs['class'].index('row')\n",
    "    div.attrs['class'][pos] = '' \n",
    "    \n",
    "\n",
    "div1 = div_header.find(\"div\", {\"class\":\"header-row\"})\n",
    "\n",
    "outputfile.write(\"\"\"<div style=\"margin: 2.5rem;\"> \"\"\")\n",
    "outputfile.write(\"\"\"<div class=\"header\">\"\"\")\n",
    "get_image_file_as_base64_data(div1)\n",
    "outputfile.write(str(div1))\n",
    "\n",
    "div2 = div_header.find(\"div\", {\"id\": \"main-menu-top\"})\n",
    "\n",
    "div2.attrs['style'] = \"margin: 10px 0px 10px 0px !important\"\n",
    "div2.find('div', {\"class\": \"search-nav-icon\"}).decompose()\n",
    "div2.find('div', {\"class\": \"search-top\"}).decompose()\n",
    "div3 = div2.find(\"div\", {\"id\": \"navbar\"})\n",
    "div3.attrs['class'] = \"navbar navbar-light bg-faded navbar-collapse collapse in\"\n",
    "div3.attrs['aria-expanded'] = \"true\"\n",
    "outputfile.write(str(div2))\n",
    "outputfile.write(\"</div></div>\")\n",
    "# End Header\n",
    "\n",
    "\n",
    "\n",
    "file_text = codecs.open(path + '/MESHFREE2.html', 'r')\n",
    "html_text = file_text.read()\n",
    "\n",
    "#outputfile.write(\"\"\"div style=\"margin-left: 2.5rem; margin-right: 2.5rem; display: block;\">\"\"\")\n",
    "\n",
    "\n",
    "soup = BeautifulSoup(html_text, 'lxml')\n",
    "div_fhwrapper = soup.find(\"div\", {\"class\": \"fh-wrapper\"})  # \"header\", \"class\": \"border-vertical\"})\n",
    "\n",
    "div_fhwrapper.find('div', {\"class\": \"header\"}).decompose()\n",
    "\n",
    "div_fhwrapper.find('div', {\"class\": \"footer-small visible-xs visible-sm\"}).decompose()\n",
    "div_fhwrapper.attrs['style'] = \"margin-left: 2.5rem; margin-right: 2.5rem; display: block;\"\n",
    "\n",
    "changeLinksInDIV(div_fhwrapper)\n",
    "\n",
    "for x in div_fhwrapper.findAll('li'):\n",
    "    #print(str(x.get_text(strip=True)))\n",
    "    if len(x.get_text(strip=True)) == 0:\n",
    "        x.extract()\n",
    "    for p in x.findAll('p'):\n",
    "        p.replaceWithChildren()\n",
    "        \n",
    "\n",
    "get_image_file_as_base64_data(div_fhwrapper)\n",
    "\n",
    "\n",
    "div_breadcrumbs = soup.find(\"div\", {\"class\": \"breadcrumbs\"})\n",
    "#div_fhwrapper.attrs['style'] = \"page-break-before: always;\"\n",
    "\n",
    "# sets id name to div\n",
    "# it is necessary for anchor links\n",
    "div_breadcrumbs.attrs['id'] = 'MESHFREE.html' #str(file)\n",
    "\n",
    "div_bordervertical = div_fhwrapper.find(\"div\", {\"class\": \"border-vertical\"})\n",
    "if div_bordervertical:\n",
    "    div_bordervertical.attrs['style'] = 'padding-left: 10px; padding-right: 10px;'\n",
    "\n",
    "div_jumbotron = soup.find(\"div\", {\"class\": \"jumbotron\"})\n",
    "div_jumbotron.attrs['style'] = \"padding-top: 5px !important; padding-bottom: 10px !important; margin-bottom: 0px !important;\"\n",
    "\n",
    "\n",
    "for div in soup.find_all('div', class_='fh-wrapper'):\n",
    "    pos = div.attrs['class'].index('fh-wrapper')\n",
    "    div.attrs['class'][pos] = 'my-fh-wrapper'\n",
    "    \n",
    "\n",
    "#div_myfhwrapper = soup.find(\"div\", {\"class\": \"my-fh-wrapper\"})  # \"header\", \"class\": \"border-vertical\"})\n",
    "div_myfhwrapper = soup.find(\"div\", {\"class\": \"my-fh-wrapper\"})\n",
    "content = str(div_myfhwrapper)\n",
    "\n",
    "\n",
    "\n",
    "outputfile.write(content)\n",
    "\n",
    "outputfile.write(\"</body>\")\n",
    "outputfile.write(\"</html>\")\n",
    "outputfile.close()\n"
   ]
  },
  {
   "cell_type": "code",
   "execution_count": 39,
   "metadata": {},
   "outputs": [],
   "source": [
    "options = {\n",
    "    'page-size': 'A4',\n",
    "    'margin-top': '0.75in',\n",
    "    'margin-right': '0.75in',\n",
    "    'margin-bottom': '0.05in',\n",
    "    'margin-left': '0.75in',\n",
    "}"
   ]
  },
  {
   "cell_type": "code",
   "execution_count": 40,
   "metadata": {},
   "outputs": [
    {
     "name": "stdout",
     "output_type": "stream",
     "text": [
      "Loading pages (1/6)\n",
      "[>                                                           ] 0%\r",
      "[======>                                                     ] 10%\r",
      "[============================>                               ] 47%\r",
      "[============================================================] 100%\r",
      "Counting pages (2/6)                                               \n",
      "[============================================================] Object 1 of 1\r",
      "Resolving links (4/6)                                                       \n",
      "[============================================================] Object 1 of 1\r",
      "Loading headers and footers (5/6)                                           \n",
      "Printing pages (6/6)\n",
      "[>                                                           ] Preparing\r",
      "[==============================>                             ] Page 1 of 2\r",
      "[============================================================] Page 2 of 2\r",
      "Done                                                                      \n"
     ]
    },
    {
     "data": {
      "text/plain": [
       "True"
      ]
     },
     "execution_count": 40,
     "metadata": {},
     "output_type": "execute_result"
    }
   ],
   "source": [
    "css = [path + '/search/css/bootstrap.css', path + '/search/css/fraunhofer.css']\n",
    "#config = pdfkit.configuration(wkhtmltopdf=\"/usr/local/bin/wkhtmltopdf\")\n",
    "pdfkit.from_file(path + '/TEMP_MESHFREE1.html', path + '/MESHFREE_test2.pdf', css=css)\n"
   ]
  },
  {
   "cell_type": "code",
   "execution_count": null,
   "metadata": {},
   "outputs": [],
   "source": []
  }
 ],
 "metadata": {
  "kernelspec": {
   "display_name": "Python 3",
   "language": "python",
   "name": "python3"
  },
  "language_info": {
   "codemirror_mode": {
    "name": "ipython",
    "version": 3
   },
   "file_extension": ".py",
   "mimetype": "text/x-python",
   "name": "python",
   "nbconvert_exporter": "python",
   "pygments_lexer": "ipython3",
   "version": "3.7.6"
  }
 },
 "nbformat": 4,
 "nbformat_minor": 4
}
