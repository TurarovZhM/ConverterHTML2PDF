{
 "cells": [
  {
   "cell_type": "code",
   "execution_count": 1,
   "metadata": {},
   "outputs": [],
   "source": [
    "import pdfkit as pdfkit\n",
    "import pandas as pd\n",
    "import os\n",
    "import numpy as np\n",
    "from bs4 import BeautifulSoup\n",
    "import codecs\n",
    "import base64"
   ]
  },
  {
   "cell_type": "code",
   "execution_count": 2,
   "metadata": {},
   "outputs": [],
   "source": [
    "path = \"/Users/zhomart/Documents/Fraunhofer/HTMLtoPDF/ConverterHTML2PDF\""
   ]
  },
  {
   "cell_type": "code",
   "execution_count": null,
   "metadata": {},
   "outputs": [],
   "source": []
  },
  {
   "cell_type": "code",
   "execution_count": 3,
   "metadata": {},
   "outputs": [],
   "source": [
    "def changeLinksInDIV(div_text):\n",
    "    for link in div_text.findAll('a'):\n",
    "        # be careful not to change .pdf files links\n",
    "        txtlink = str(link.get('href')).strip()\n",
    "        if txtlink.endswith('.html') and (not txtlink.startswith('http')) and (not txtlink.startswith('www')):\n",
    "            # print(txtlink)\n",
    "            link['href'] = link['href'].replace(link['href'], '#' + link['href'])"
   ]
  },
  {
   "cell_type": "code",
   "execution_count": 11,
   "metadata": {},
   "outputs": [],
   "source": [
    "\n",
    "\n",
    "\n",
    "def get_image_file_as_base64_data(div_text):\n",
    "    for img in div_text.findAll('img'):\n",
    "        txt_img = str(img.get('src')).strip()\n",
    "        #print(txt_img)\n",
    "        \n",
    "        if not txt_img.startswith('..'):\n",
    "            txt_img = path + '/'+txt_img\n",
    "        \n",
    "        if txt_img.endswith('.png'):\n",
    "            with open(txt_img, 'rb') as image_file:\n",
    "                b64_str =  base64.b64encode(image_file.read()).decode()\n",
    "                img['src'] = img['src'].replace(img['src'], 'data:image/png;base64,'+str(b64_str))\n",
    "                #encoded = base64.b64encode(b64_str)\n",
    "        if txt_img.endswith('.jpg') or txt_img.endswith('.jpeg'):\n",
    "            with open(txt_img, 'rb') as image_file:\n",
    "                b64_str =  base64.b64encode(image_file.read()).decode()\n",
    "                img['src'] = img['src'].replace(img['src'], 'data:image/jpeg;base64,'+str(b64_str))\n",
    "                #encoded = base64.b64encode(b64_str)\n",
    "    #print(str(b64_str))"
   ]
  },
  {
   "cell_type": "code",
   "execution_count": 56,
   "metadata": {},
   "outputs": [],
   "source": [
    "outputfile = open(path + \"/TEMP_MESHFREE3.html\", \"w+\")\n",
    "\n",
    "outputfile.write(\"\"\"<!doctype html>\n",
    "<html>\n",
    "<head>\n",
    "<meta charset=\"utf-8\">\n",
    "<meta http-equiv=\"X-UA-Compatible\" content=\"IE=edge\">\n",
    "<meta name=\"viewport\" content=\"width=device-width, initial-scale=1\">\n",
    "<meta name=\"description\" content=\"\">\n",
    "<meta name=\"author\" content=\"\">\n",
    "<link rel=\"icon\" href=\"search/image/favicon.ico\">\n",
    "<title>MESHFREEdocu</title>\n",
    "<link href=\"search/css/bootstrap.css\" rel=\"stylesheet\">\n",
    "<link href=\"search/css/fraunhofer.css\" rel=\"stylesheet\">\n",
    "<script type=\"text/javascript\" src=\"search/js/jquery-1.12.0.js\"></script>\n",
    "<script src=\"search/js/bootstrap.min.js\"></script>\n",
    "<script src=\"search/js/custom.js\"></script>\n",
    "\n",
    "</head>\n",
    "<body>\"\"\")\n",
    "\n",
    "\n",
    "file_text = codecs.open(path + '/MESHFREE2.html', 'r')\n",
    "html_text = file_text.read()\n",
    "\n",
    "soup = BeautifulSoup(html_text, 'lxml')\n",
    "div_fhwrapper = soup.find(\"div\", {\"class\": \"fh-wrapper\"})  # \"header\", \"class\": \"border-vertical\"})\n",
    "\n",
    "div_fhwrapper.find('div', {\"class\": \"header\"}).decompose()\n",
    "div_fhwrapper.find('div', {\"class\": \"footer-small visible-xs visible-sm\"}).decompose()\n",
    "\n",
    "# adds # before link\n",
    "changeLinksInDIV(div_fhwrapper)\n",
    "\n",
    "\n",
    "div_breadcrumbs = soup.find(\"div\", {\"class\": \"breadcrumbs\"})\n",
    "#div_fhwrapper.attrs['style'] = \"page-break-before: always;\"\n",
    "\n",
    "# sets id name to div\n",
    "# it is necessary for anchor links\n",
    "div_breadcrumbs.attrs['id'] = 'MESHFREE.html' #str(file)\n",
    "\n",
    "# style = \"display:block; clear:both; page-break-after:always;\"\n",
    "\n",
    "div_jumbotron = soup.find(\"div\", {\"class\": \"jumbotron\"})\n",
    "div_jumbotron.attrs['style'] = \"padding-top: 5px !important; padding-bottom: 10px !important; margin-bottom: 0px !important;\"\n",
    "\n",
    "\n",
    "for x in div_fhwrapper.findAll('li'):\n",
    "    #print(x)\n",
    "    if len(x.get_text(strip=True)) == 0:\n",
    "        #print(x)\n",
    "        x.extract()\n",
    "        \n",
    "\n",
    "get_image_file_as_base64_data(div_fhwrapper)\n",
    "\n",
    "content = str(div_fhwrapper)\n",
    "\n",
    "cnt = div_fhwrapper.text\n",
    "\n",
    "\n",
    "outputfile.write(content)\n",
    "\n",
    "outputfile.write(\"</body>\")\n",
    "outputfile.write(\"</html>\")\n",
    "outputfile.close()\n"
   ]
  },
  {
   "cell_type": "code",
   "execution_count": 52,
   "metadata": {},
   "outputs": [],
   "source": [
    "options = {\n",
    "    'page-size': 'A4',\n",
    "    'margin-top': '0.75in',\n",
    "    'margin-right': '0.75in',\n",
    "    'margin-bottom': '0.5in',\n",
    "    'margin-left': '0.75in',\n",
    "}"
   ]
  },
  {
   "cell_type": "code",
   "execution_count": 54,
   "metadata": {},
   "outputs": [
    {
     "ename": "OSError",
     "evalue": "wkhtmltopdf reported an error:\nLoading pages (1/6)\n[>                                                           ] 0%\r[======>                                                     ] 10%\rWarning: Blocked access to file                                   \nWarning: Blocked access to file \nWarning: Blocked access to file \nWarning: Blocked access to file \nWarning: Blocked access to file \n[======================>                                     ] 37%\rError: Failed to load about:blank, with network status code 301 and http status code 0 - Protocol \"about\" is unknown\nError: Failed to load about:blank, with network status code 301 and http status code 0 - Protocol \"about\" is unknown\nError: Failed to load about:blank, with network status code 301 and http status code 0 - Protocol \"about\" is unknown\nError: Failed to load about:blank, with network status code 301 and http status code 0 - Protocol \"about\" is unknown\nError: Failed to load about:blank, with network status code 301 and http status code 0 - Protocol \"about\" is unknown\n[============================================================] 100%\rCounting pages (2/6)                                               \n[============================================================] Object 1 of 1\rResolving links (4/6)                                                       \n[============================================================] Object 1 of 1\rLoading headers and footers (5/6)                                           \nPrinting pages (6/6)\n[>                                                           ] Preparing\r[==============================>                             ] Page 1 of 2\r[============================================================] Page 2 of 2\rDone                                                                      \nExit with code 1 due to network error: ProtocolUnknownError\n",
     "output_type": "error",
     "traceback": [
      "\u001b[0;31m---------------------------------------------------------------------------\u001b[0m",
      "\u001b[0;31mOSError\u001b[0m                                   Traceback (most recent call last)",
      "\u001b[0;32m<ipython-input-54-79cb2754a90f>\u001b[0m in \u001b[0;36m<module>\u001b[0;34m\u001b[0m\n\u001b[1;32m      1\u001b[0m \u001b[0mcss\u001b[0m \u001b[0;34m=\u001b[0m \u001b[0;34m[\u001b[0m\u001b[0mpath\u001b[0m \u001b[0;34m+\u001b[0m \u001b[0;34m'/search/css/bootstrap.css'\u001b[0m\u001b[0;34m,\u001b[0m \u001b[0mpath\u001b[0m \u001b[0;34m+\u001b[0m \u001b[0;34m'/search/css/fraunhofer.css'\u001b[0m\u001b[0;34m]\u001b[0m\u001b[0;34m\u001b[0m\u001b[0;34m\u001b[0m\u001b[0m\n\u001b[1;32m      2\u001b[0m \u001b[0;31m#config = pdfkit.configuration(wkhtmltopdf=\"/usr/local/bin/wkhtmltopdf\")\u001b[0m\u001b[0;34m\u001b[0m\u001b[0;34m\u001b[0m\u001b[0;34m\u001b[0m\u001b[0m\n\u001b[0;32m----> 3\u001b[0;31m \u001b[0mpdfkit\u001b[0m\u001b[0;34m.\u001b[0m\u001b[0mfrom_file\u001b[0m\u001b[0;34m(\u001b[0m\u001b[0mpath\u001b[0m \u001b[0;34m+\u001b[0m \u001b[0;34m'/TEMP_MESHFREE3.html'\u001b[0m\u001b[0;34m,\u001b[0m \u001b[0mpath\u001b[0m \u001b[0;34m+\u001b[0m \u001b[0;34m'/MESHFREE_test2.pdf'\u001b[0m\u001b[0;34m,\u001b[0m \u001b[0mcss\u001b[0m\u001b[0;34m=\u001b[0m\u001b[0mcss\u001b[0m\u001b[0;34m)\u001b[0m\u001b[0;34m\u001b[0m\u001b[0;34m\u001b[0m\u001b[0m\n\u001b[0m",
      "\u001b[0;32m~/opt/anaconda3/lib/python3.7/site-packages/pdfkit/api.py\u001b[0m in \u001b[0;36mfrom_file\u001b[0;34m(input, output_path, options, toc, cover, css, configuration, cover_first)\u001b[0m\n\u001b[1;32m     47\u001b[0m                configuration=configuration, cover_first=cover_first)\n\u001b[1;32m     48\u001b[0m \u001b[0;34m\u001b[0m\u001b[0m\n\u001b[0;32m---> 49\u001b[0;31m     \u001b[0;32mreturn\u001b[0m \u001b[0mr\u001b[0m\u001b[0;34m.\u001b[0m\u001b[0mto_pdf\u001b[0m\u001b[0;34m(\u001b[0m\u001b[0moutput_path\u001b[0m\u001b[0;34m)\u001b[0m\u001b[0;34m\u001b[0m\u001b[0;34m\u001b[0m\u001b[0m\n\u001b[0m\u001b[1;32m     50\u001b[0m \u001b[0;34m\u001b[0m\u001b[0m\n\u001b[1;32m     51\u001b[0m \u001b[0;34m\u001b[0m\u001b[0m\n",
      "\u001b[0;32m~/opt/anaconda3/lib/python3.7/site-packages/pdfkit/pdfkit.py\u001b[0m in \u001b[0;36mto_pdf\u001b[0;34m(self, path)\u001b[0m\n\u001b[1;32m    154\u001b[0m \u001b[0;34m\u001b[0m\u001b[0m\n\u001b[1;32m    155\u001b[0m         \u001b[0;32mif\u001b[0m \u001b[0;34m'Error'\u001b[0m \u001b[0;32min\u001b[0m \u001b[0mstderr\u001b[0m\u001b[0;34m:\u001b[0m\u001b[0;34m\u001b[0m\u001b[0;34m\u001b[0m\u001b[0m\n\u001b[0;32m--> 156\u001b[0;31m             \u001b[0;32mraise\u001b[0m \u001b[0mIOError\u001b[0m\u001b[0;34m(\u001b[0m\u001b[0;34m'wkhtmltopdf reported an error:\\n'\u001b[0m \u001b[0;34m+\u001b[0m \u001b[0mstderr\u001b[0m\u001b[0;34m)\u001b[0m\u001b[0;34m\u001b[0m\u001b[0;34m\u001b[0m\u001b[0m\n\u001b[0m\u001b[1;32m    157\u001b[0m \u001b[0;34m\u001b[0m\u001b[0m\n\u001b[1;32m    158\u001b[0m         \u001b[0;32mif\u001b[0m \u001b[0mexit_code\u001b[0m \u001b[0;34m!=\u001b[0m \u001b[0;36m0\u001b[0m\u001b[0;34m:\u001b[0m\u001b[0;34m\u001b[0m\u001b[0;34m\u001b[0m\u001b[0m\n",
      "\u001b[0;31mOSError\u001b[0m: wkhtmltopdf reported an error:\nLoading pages (1/6)\n[>                                                           ] 0%\r[======>                                                     ] 10%\rWarning: Blocked access to file                                   \nWarning: Blocked access to file \nWarning: Blocked access to file \nWarning: Blocked access to file \nWarning: Blocked access to file \n[======================>                                     ] 37%\rError: Failed to load about:blank, with network status code 301 and http status code 0 - Protocol \"about\" is unknown\nError: Failed to load about:blank, with network status code 301 and http status code 0 - Protocol \"about\" is unknown\nError: Failed to load about:blank, with network status code 301 and http status code 0 - Protocol \"about\" is unknown\nError: Failed to load about:blank, with network status code 301 and http status code 0 - Protocol \"about\" is unknown\nError: Failed to load about:blank, with network status code 301 and http status code 0 - Protocol \"about\" is unknown\n[============================================================] 100%\rCounting pages (2/6)                                               \n[============================================================] Object 1 of 1\rResolving links (4/6)                                                       \n[============================================================] Object 1 of 1\rLoading headers and footers (5/6)                                           \nPrinting pages (6/6)\n[>                                                           ] Preparing\r[==============================>                             ] Page 1 of 2\r[============================================================] Page 2 of 2\rDone                                                                      \nExit with code 1 due to network error: ProtocolUnknownError\n"
     ]
    }
   ],
   "source": [
    "css = [path + '/search/css/bootstrap.css', path + '/search/css/fraunhofer.css']\n",
    "#config = pdfkit.configuration(wkhtmltopdf=\"/usr/local/bin/wkhtmltopdf\")\n",
    "pdfkit.from_file(path + '/TEMP_MESHFREE3.html', path + '/MESHFREE_test2.pdf', css=css)\n"
   ]
  },
  {
   "cell_type": "code",
   "execution_count": null,
   "metadata": {},
   "outputs": [],
   "source": []
  },
  {
   "cell_type": "code",
   "execution_count": null,
   "metadata": {},
   "outputs": [],
   "source": []
  },
  {
   "cell_type": "code",
   "execution_count": null,
   "metadata": {},
   "outputs": [],
   "source": [
    "import base64"
   ]
  },
  {
   "cell_type": "code",
   "execution_count": null,
   "metadata": {},
   "outputs": [],
   "source": [
    "with open(\"../Pictures/tut02_figure10.png\", \"rb\") as image:\n",
    "    tut02_figure10 = base64.b64encode(image.read())"
   ]
  },
  {
   "cell_type": "code",
   "execution_count": null,
   "metadata": {},
   "outputs": [],
   "source": [
    "content"
   ]
  },
  {
   "cell_type": "code",
   "execution_count": null,
   "metadata": {},
   "outputs": [],
   "source": []
  }
 ],
 "metadata": {
  "kernelspec": {
   "display_name": "Python 3",
   "language": "python",
   "name": "python3"
  },
  "language_info": {
   "codemirror_mode": {
    "name": "ipython",
    "version": 3
   },
   "file_extension": ".py",
   "mimetype": "text/x-python",
   "name": "python",
   "nbconvert_exporter": "python",
   "pygments_lexer": "ipython3",
   "version": "3.7.6"
  }
 },
 "nbformat": 4,
 "nbformat_minor": 4
}
