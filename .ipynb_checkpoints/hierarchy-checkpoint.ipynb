{
 "cells": [
  {
   "cell_type": "code",
   "execution_count": 19,
   "metadata": {},
   "outputs": [],
   "source": [
    "import pandas as pd\n",
    "import os\n",
    "import numpy as np\n",
    "from bs4 import BeautifulSoup"
   ]
  },
  {
   "cell_type": "code",
   "execution_count": 2,
   "metadata": {},
   "outputs": [],
   "source": [
    "path = \"/Users/zhomart/Documents/Fraunhofer/HTMLtoPDF/ConverterHTML2PDF/WebDocumentation\""
   ]
  },
  {
   "cell_type": "code",
   "execution_count": 11,
   "metadata": {},
   "outputs": [],
   "source": [
    "html_files = [f for f in os.listdir(path) if f.endswith('.html') and f != 'MESHFREE.html'and f != 'MESHFREEdocu_AllInOne.html']\n"
   ]
  },
  {
   "cell_type": "code",
   "execution_count": 12,
   "metadata": {},
   "outputs": [
    {
     "data": {
      "text/plain": [
       "28"
      ]
     },
     "execution_count": 12,
     "metadata": {},
     "output_type": "execute_result"
    }
   ],
   "source": [
    "len(html_files)"
   ]
  },
  {
   "cell_type": "code",
   "execution_count": 13,
   "metadata": {},
   "outputs": [
    {
     "name": "stdout",
     "output_type": "stream",
     "text": [
      "MESHFREE.Windows.html\n",
      "MESHFREE.GettingStarted.SpecialCases.WaterCrossing.SimpleBox.DifferentTypesOfPressureBoundaryConditions.QuasiStationary.common_variables___SBDTOPBC___.html\n",
      "MESHFREEdevelopment.Coding.Refactoring.TODOs.MxV_prepare.html\n",
      "MESHFREE.GettingStarted.SpecialCases.WaterManagement.RainOnSimplePlate.SophisticatedVolumeControl.Ucv_ComputeAdaptedTargetVolume.html\n",
      "MESHFREE.GettingStarted.SpecialCases.WaterCrossing.SimpleBox.DifferentTypesOfPressureBoundaryConditions.QuasiStationary.Ucv_SinglePoolWithBox___SBDTOPBC___.html\n",
      "MESHFREEdevelopment.Coding.Refactoring.html\n",
      "Index.html\n",
      "MESHFREEdevelopment.html\n",
      "MESHFREE.Support.html\n",
      "MESHFREEdevelopment.Coding.Conventions.LocalVariables.html\n"
     ]
    }
   ],
   "source": [
    "for f in html_files[:10]:\n",
    "    print(f)"
   ]
  },
  {
   "cell_type": "code",
   "execution_count": 14,
   "metadata": {},
   "outputs": [
    {
     "data": {
      "text/html": [
       "<div>\n",
       "<style scoped>\n",
       "    .dataframe tbody tr th:only-of-type {\n",
       "        vertical-align: middle;\n",
       "    }\n",
       "\n",
       "    .dataframe tbody tr th {\n",
       "        vertical-align: top;\n",
       "    }\n",
       "\n",
       "    .dataframe thead th {\n",
       "        text-align: right;\n",
       "    }\n",
       "</style>\n",
       "<table border=\"1\" class=\"dataframe\">\n",
       "  <thead>\n",
       "    <tr style=\"text-align: right;\">\n",
       "      <th></th>\n",
       "      <th>0</th>\n",
       "    </tr>\n",
       "  </thead>\n",
       "  <tbody>\n",
       "    <tr>\n",
       "      <th>0</th>\n",
       "      <td>MESHFREE.Windows.html</td>\n",
       "    </tr>\n",
       "    <tr>\n",
       "      <th>1</th>\n",
       "      <td>MESHFREE.GettingStarted.SpecialCases.WaterCros...</td>\n",
       "    </tr>\n",
       "    <tr>\n",
       "      <th>2</th>\n",
       "      <td>MESHFREEdevelopment.Coding.Refactoring.TODOs.M...</td>\n",
       "    </tr>\n",
       "    <tr>\n",
       "      <th>3</th>\n",
       "      <td>MESHFREE.GettingStarted.SpecialCases.WaterMana...</td>\n",
       "    </tr>\n",
       "    <tr>\n",
       "      <th>4</th>\n",
       "      <td>MESHFREE.GettingStarted.SpecialCases.WaterCros...</td>\n",
       "    </tr>\n",
       "    <tr>\n",
       "      <th>5</th>\n",
       "      <td>MESHFREEdevelopment.Coding.Refactoring.html</td>\n",
       "    </tr>\n",
       "    <tr>\n",
       "      <th>6</th>\n",
       "      <td>Index.html</td>\n",
       "    </tr>\n",
       "    <tr>\n",
       "      <th>7</th>\n",
       "      <td>MESHFREEdevelopment.html</td>\n",
       "    </tr>\n",
       "    <tr>\n",
       "      <th>8</th>\n",
       "      <td>MESHFREE.Support.html</td>\n",
       "    </tr>\n",
       "    <tr>\n",
       "      <th>9</th>\n",
       "      <td>MESHFREEdevelopment.Coding.Conventions.LocalVa...</td>\n",
       "    </tr>\n",
       "  </tbody>\n",
       "</table>\n",
       "</div>"
      ],
      "text/plain": [
       "                                                   0\n",
       "0                              MESHFREE.Windows.html\n",
       "1  MESHFREE.GettingStarted.SpecialCases.WaterCros...\n",
       "2  MESHFREEdevelopment.Coding.Refactoring.TODOs.M...\n",
       "3  MESHFREE.GettingStarted.SpecialCases.WaterMana...\n",
       "4  MESHFREE.GettingStarted.SpecialCases.WaterCros...\n",
       "5        MESHFREEdevelopment.Coding.Refactoring.html\n",
       "6                                         Index.html\n",
       "7                           MESHFREEdevelopment.html\n",
       "8                              MESHFREE.Support.html\n",
       "9  MESHFREEdevelopment.Coding.Conventions.LocalVa..."
      ]
     },
     "execution_count": 14,
     "metadata": {},
     "output_type": "execute_result"
    }
   ],
   "source": [
    "df = pd.DataFrame(html_files) \n",
    "df.head(10)"
   ]
  },
  {
   "cell_type": "code",
   "execution_count": null,
   "metadata": {},
   "outputs": [],
   "source": [
    "\n"
   ]
  },
  {
   "cell_type": "code",
   "execution_count": 15,
   "metadata": {},
   "outputs": [],
   "source": [
    "ordered_list_html_files = ['MESHFREE.html']"
   ]
  },
  {
   "cell_type": "code",
   "execution_count": 16,
   "metadata": {},
   "outputs": [],
   "source": [
    "order_by_list = ['InstallationGuide', 'GettingStarted', 'InputFiles', '__Constants__', 'RunTimeTools', 'Solvers',\n",
    "                     'PerformanceOptimization', 'Windows', 'Support', 'Releases', 'Indices']"
   ]
  },
  {
   "cell_type": "code",
   "execution_count": 17,
   "metadata": {},
   "outputs": [],
   "source": [
    "# new data frame with split value columns \n",
    "dftmp = df[0].str.split('html',  expand = True)[0]\n",
    "df2 = dftmp.str.split(\".\",  expand = True)\n",
    "\n",
    "\n",
    "for order in order_by_list:\n",
    "    list2 = df2[df2[1] == order].sort_values([df2.columns[2],df2.columns[3],df2.columns[4],df2.columns[5],df2.columns[6],df2.columns[7],df2.columns[8]], ascending = [True, True, True, True, True, True, True]).apply(\n",
    "        lambda x: '.'.join(x.dropna().astype(str))+'html',\n",
    "        axis=1\n",
    "    )\n",
    "    for name in list2.values:\n",
    "        ordered_list_html_files.append(name)\n",
    "        #print(len(list2.values))"
   ]
  },
  {
   "cell_type": "code",
   "execution_count": null,
   "metadata": {},
   "outputs": [],
   "source": [
    "ordered_list_html_files"
   ]
  },
  {
   "cell_type": "code",
   "execution_count": null,
   "metadata": {},
   "outputs": [],
   "source": [
    "#df2[df2[1] not in order_by_list]\n",
    "df3 = df2[~df2[1].isin(order_by_list)]\n",
    "list3 = df3.sort_values(by=[df3.columns[0], df3.columns[1], df3.columns[2],df3.columns[3],df3.columns[4],df3.columns[5],df3.columns[6],df3.columns[7],df3.columns[8]], ascending = [False, True, True, True, True, True, True, True, True]).apply(\n",
    "        lambda x: '.'.join(x.dropna().astype(str))+'html',\n",
    "        axis=1\n",
    "    )"
   ]
  },
  {
   "cell_type": "code",
   "execution_count": null,
   "metadata": {},
   "outputs": [],
   "source": [
    "list3.values"
   ]
  },
  {
   "cell_type": "code",
   "execution_count": null,
   "metadata": {},
   "outputs": [],
   "source": [
    "for name in list3.values:\n",
    "    ordered_list_html_files.append(name)"
   ]
  },
  {
   "cell_type": "code",
   "execution_count": null,
   "metadata": {},
   "outputs": [],
   "source": [
    "len(ordered_list_html_files)"
   ]
  },
  {
   "cell_type": "code",
   "execution_count": null,
   "metadata": {},
   "outputs": [],
   "source": []
  },
  {
   "cell_type": "code",
   "execution_count": null,
   "metadata": {},
   "outputs": [],
   "source": []
  },
  {
   "cell_type": "code",
   "execution_count": 80,
   "metadata": {},
   "outputs": [],
   "source": [
    "\n",
    "def changeLinksInDIV(div_text):\n",
    "    for link in div_text.findAll('a'):\n",
    "        # be careful not to change .pdf files links\n",
    "        txtlink = str(link.get('href'))\n",
    "        if str(link.get('href')).endswith('.html'):\n",
    "            # print(txtlink)\n",
    "            link['href'] = link['href'].replace(link['href'], '#' + link['href'])\n",
    "            print(link.get('href'))\n",
    "            # print(txtlink.endswith('.html', 5))"
   ]
  },
  {
   "cell_type": "code",
   "execution_count": 65,
   "metadata": {},
   "outputs": [],
   "source": [
    "meshfree_file = open('/Users/zhomart/Documents/Fraunhofer/HTMLtoPDF/ConverterHTML2PDF/MESHFREE.html', \"r\")\n",
    "meshfree_text = meshfree_file.read()\n",
    "for_footer_soup = BeautifulSoup(meshfree_text, \"html.parser\")\n",
    "div_fhwrap = for_footer_soup.body.find(\"div\", {\"class\": \"fh-wrapper\"})\n",
    "div_footer = for_footer_soup.body.find(\"div\", {\"class\": \"blank-class-outer-top\"})\n",
    "#changeLinksInDIV(div_footer)\n",
    "#content_footer = str(div_footer)"
   ]
  },
  {
   "cell_type": "code",
   "execution_count": 66,
   "metadata": {},
   "outputs": [],
   "source": [
    "div_footer"
   ]
  },
  {
   "cell_type": "code",
   "execution_count": 67,
   "metadata": {},
   "outputs": [
    {
     "data": {
      "text/plain": [
       "<div class=\"fh-wrapper\">\n",
       "<div class=\"header\">\n",
       "<div class=\"row visible-xs\" id=\"main-menu-top\">\n",
       "<div class=\"row search-nav-icon\">\n",
       "<div class=\"col-md-12\">\n",
       "<!-- for search and navigation icon -->\n",
       "<div class=\"nav-top-btn\" id=\"nav-top\"></div>\n",
       "<div class=\"search-icon\" id=\"search-btn-index-top-icon\"></div>\n",
       "</div>\n",
       "</div>\n",
       "<div class=\"row\">\n",
       "<div class=\"col-md-12\">\n",
       "<nav class=\"navbar navbar-inverse\">\n",
       "<div class=\"navbar-header\">\n",
       "<button aria-controls=\"navbar\" aria-expanded=\"false\" class=\"navbar-toggle collapsed\" data-target=\"#navbar\" data-toggle=\"collapse\" type=\"button\">\n",
       "<span class=\"sr-only\">Toggle navigation</span>\n",
       "<span class=\"icon-bar\"></span>\n",
       "<span class=\"icon-bar\"></span>\n",
       "<span class=\"icon-bar\"></span>\n",
       "</button>\n",
       "</div>\n",
       "<div class=\"navbar navbar-light bg-faded collapse navbar-collapse\" id=\"navbar\">\n",
       "<ul class=\"nav navbar-nav\">\n",
       "<li class=\"nav-item\">\n",
       "<a class=\"nav-link\" href=\"MESHFREE.InputFiles.html\" target=\"_blank\">Input Files</a>\n",
       "</li>\n",
       "<li class=\"nav-item\">\n",
       "<a class=\"nav-link\" href=\"MESHFREE.Indices.html\" target=\"_blank\">Indices</a>\n",
       "</li>\n",
       "<li class=\"nav-item\">\n",
       "<a class=\"nav-link\" href=\"MESHFREE.GettingStarted.html\" target=\"_blank\">Getting Started</a>\n",
       "</li>\n",
       "<li class=\"nav-item\">\n",
       "<a class=\"nav-link\" href=\"MESHFREE.Download.html\" target=\"_blank\">Download</a>\n",
       "</li>\n",
       "<li class=\"nav-item\">\n",
       "<a class=\"nav-link\" href=\"MESHFREE.Support.html\" target=\"_blank\">Support</a>\n",
       "</li>\n",
       "</ul>\n",
       "</div>\n",
       "</nav>\n",
       "</div>\n",
       "<div class=\"search-top\">\n",
       "<form id=\"search-form-index-top\">\n",
       "<input autocomplete=\"off\" class=\"query-string\" id=\"search-text-index-top\" name=\"queryString\" placeholder=\"Search\" type=\"text\" value=\"\"/>\n",
       "<button class=\"btn\" id=\"search-btn-index-top\" type=\"submit\"></button>\n",
       "</form>\n",
       "</div>\n",
       "</div>\n",
       "</div>\n",
       "<div class=\"row header-row\">\n",
       "<div class=\"col-sm-4\">\n",
       "<div class=\"row\">\n",
       "<a href=\"MESHFREE.html\">\n",
       "<img alt=\"\" class=\"logo img-responsive\" src=\"search/image/MESHFREE_Logo.png\"/>\n",
       "</a>\n",
       "</div>\n",
       "<div class=\"row company_name\">\n",
       "\t\t\t\t\t\tSimulate with complex geometries and complex physics\n",
       "\t\t\t\t\t</div>\n",
       "</div>\n",
       "<div class=\"col-sm-8\">\n",
       "<div class=\"row header-search-row hidden-xs\">\n",
       "<div class=\"search\">\n",
       "<form id=\"search-form-index-header\">\n",
       "<input autocomplete=\"off\" class=\"query-string\" id=\"search-text-index-header\" name=\"queryString\" placeholder=\"Search\" type=\"text\" value=\"\"/>\n",
       "<button class=\"btn\" id=\"search-btn-index-header\" type=\"submit\"><i class=\"glyphicon glyphicon-search\"></i></button>\n",
       "</form>\n",
       "</div>\n",
       "</div>\n",
       "<div class=\"row main_menu hidden-xs\" id=\"main-menu-bottom\">\n",
       "<nav class=\"navbar navbar-inverse\">\n",
       "<div class=\"navbar-header\">\n",
       "<button aria-controls=\"navbar\" aria-expanded=\"false\" class=\"navbar-toggle collapsed\" data-target=\"#navbar\" data-toggle=\"collapse\" type=\"button\">\n",
       "<span class=\"sr-only\">Toggle navigation</span>\n",
       "<span class=\"icon-bar\"></span>\n",
       "<span class=\"icon-bar\"></span>\n",
       "<span class=\"icon-bar\"></span>\n",
       "</button>\n",
       "</div>\n",
       "<div class=\"navbar navbar-light bg-faded collapse navbar-collapse\" id=\"navbar\">\n",
       "<ul class=\"nav navbar-nav\">\n",
       "<li class=\"nav-item\">\n",
       "<a class=\"nav-link\" href=\"MESHFREE.InputFiles.html\" target=\"_blank\">Input Files</a>\n",
       "</li>\n",
       "<li class=\"nav-item\">\n",
       "<a class=\"nav-link\" href=\"MESHFREE.Indices.html\" target=\"_blank\">Indices</a>\n",
       "</li>\n",
       "<li class=\"nav-item\">\n",
       "<a class=\"nav-link\" href=\"MESHFREE.GettingStarted.html\" target=\"_blank\">Getting Started</a>\n",
       "</li>\n",
       "<li class=\"nav-item\">\n",
       "<a class=\"nav-link\" href=\"MESHFREE.Download.html\" target=\"_blank\">Download</a>\n",
       "</li>\n",
       "<li class=\"nav-item\">\n",
       "<a class=\"nav-link\" href=\"MESHFREE.Support.html\" target=\"_blank\">Support</a>\n",
       "</li>\n",
       "</ul>\n",
       "</div>\n",
       "</nav>\n",
       "</div>\n",
       "</div>\n",
       "</div>\n",
       "</div>\n",
       "<div class=\"breadcrumbs\">\n",
       "<div class=\"row breadcrumb\">\n",
       "<div class=\"col-md-12\">\n",
       "<ul>\n",
       "<li><a href=\"MESHFREE.html\">MESHFREE</a></li>\n",
       "</ul>\n",
       "</div>\n",
       "</div>\n",
       "</div>\n",
       "<div class=\"border-vertical\">\n",
       "<div class=\"row\">\n",
       "<div class=\"col-md-12 content\">\n",
       "<div class=\"jumbotron\">\n",
       "<h1>MESHFREE</h1><p> Online Documentation for MESHFREE </p>\n",
       "</div>\n",
       "<div class=\"description\">\n",
       "<h2 class=\"customh2\"> General information </h2>\n",
       "<p> The original method is called \n",
       "  <a href=\" https://www.itwm.fraunhofer.de/en/departments/tv/grid-free-methods.html \">Finite Pointset Method (FPM)</a> \n",
       "  and is an originary development of the \n",
       "  <a href=\" https://www.itwm.fraunhofer.de/en.html \">Fraunhofer Institute for Industrial Mathematics ITWM</a>. \n",
       "  The software <b>MESHFREE</b> couples FPM and the \n",
       "  <a href=\" https://www.scai.fraunhofer.de/en/products/software-samg.html \">algebraic multigrid method implemented in SAMG</a>, \n",
       "  an originary development of the \n",
       "  <a href=\" https://www.scai.fraunhofer.de/en.html \">Fraunhofer Institute for Algorithms and Scientific Computing SCAI</a>. \n",
       "  </p>\n",
       "<p> FPM is the deprecated name of the numerical simulation idea, publications of which can be found for example in \n",
       "  <a href=\" https://www.meshfree.eu/en/publications.html \">https://www.meshfree.eu/en/publications.html</a>. \n",
       "  Now and the in future, we prefer the name <em> Generalized Finite Difference Method (GFDM)</em>, \n",
       "  as this states exactly the character of the method \n",
       "  and avoids confusion with other ideas, also abbreviated as FPM. </p>\n",
       "<p> Note that FPM is still the name of several commercial software-instances outside of ITWM, putting the original FPM-ideas into practice. </p>\n",
       "<p> <b>MESHFREElite</b> is the original FPM-software without SAMG. </p>\n",
       "<h2 class=\"customh2\"> How to use <a href=\"MESHFREE.html\">MESHFREE</a> </h2> <ul><li>\n",
       "</li><li> <p> <a href=\"MESHFREE.InstallationGuide.html\">InstallationGuide</a>: install the software \n",
       "  </p> </li><li> <p> <a href=\"MESHFREE.GettingStarted.html\">GettingStarted</a>: first steps with <a href=\"MESHFREE.html\">MESHFREE</a>\n",
       "</p> </li><li> <p> <a href=\"MESHFREE.Releases.html\">Releases</a>: stay up-to-date with new/current developments \n",
       "  </p> </li><li> <p> <a href=\"MESHFREE.InputFiles.html\">InputFiles</a>: quick reference to all items and functionalities provided to the user \n",
       "  </p> </li><li> <p> <a href=\"MESHFREE.Indices.html\">Indices</a> and <a href=\"MESHFREE.__Constants__.html\">__Constants__</a>: quick reference to all predefined variables and constants \n",
       "  </p> </li><li> <p> <a href=\"MESHFREE.RunTimeTools.html\">RunTimeTools</a>: communication with a running simulation, performance measurements \n",
       "  </p> </li><li> <p> <a href=\"MESHFREE.Solvers.html\">Solvers</a>: underlying mathematical and numerical models \n",
       "  <p> </p></p></li><li> <p> <a href=\"MESHFREE.Interfaces.html\">Interfaces</a>: overview of possible couplings of <a href=\"MESHFREE.html\">MESHFREE</a> with other tools \n",
       "  </p> </li><li> <p> <a href=\"MESHFREE.MESHFREEdocu.html\">MESHFREEdocu</a>: quick reference for developers, how to contribute to this documentation \n",
       "  </p> </li><li> <p> information on how to compile <a href=\"MESHFREE.html\">MESHFREE</a> at ITWM moved to <a href=\" https://gitlab.itwm.fraunhofer.de/FPM/FPMsoftwareF95 \">FPMsoftwareF95</a> \n",
       "  (information on how to work with git can be found here: <a href=\" https://publicwiki-01.fraunhofer.de/FPM_Group/index.php/Version_Control_with_GIT \">Version Control with GIT</a>) \n",
       "  </p> </li><li> <a href=\"MESHFREE.Windows.html\">Windows</a> version: collection of information \n",
       "  </li></ul></div></div></div></div></div>"
      ]
     },
     "execution_count": 67,
     "metadata": {},
     "output_type": "execute_result"
    }
   ],
   "source": [
    "div_fhwrap"
   ]
  },
  {
   "cell_type": "code",
   "execution_count": 70,
   "metadata": {},
   "outputs": [],
   "source": [
    "temp = pd.read_html('/Users/zhomart/Documents/Fraunhofer/HTMLtoPDF/ConverterHTML2PDF/MESHFREE.html')"
   ]
  },
  {
   "cell_type": "code",
   "execution_count": 134,
   "metadata": {},
   "outputs": [],
   "source": [
    "temp  = BeautifulSoup(open('/Users/zhomart/Documents/Fraunhofer/HTMLtoPDF/ConverterHTML2PDF/MESHFREE.html','r').read())"
   ]
  },
  {
   "cell_type": "code",
   "execution_count": 149,
   "metadata": {},
   "outputs": [],
   "source": [
    "\n",
    "temp  = BeautifulSoup(open('/Users/zhomart/Documents/Fraunhofer/HTMLtoPDF/ConverterHTML2PDF/MESHFREE.html','r').read(), \"html.parser\")\n"
   ]
  },
  {
   "cell_type": "code",
   "execution_count": 159,
   "metadata": {
    "scrolled": false
   },
   "outputs": [],
   "source": [
    "#temp"
   ]
  },
  {
   "cell_type": "code",
   "execution_count": 156,
   "metadata": {},
   "outputs": [],
   "source": [
    "\n",
    "#temp.find('div', {\"class\": \"header\"}).decompose()\n",
    "#temp.find('div', {\"class\": \"blank-class-outer footer visible-md visible-lg\"}).decompose()\n",
    "div_fhwrapper = temp.find_all(\"div\", {\"class\": \"fh-wrapper\"})  # \"header\", \"class\": \"border-vertical\"})\n"
   ]
  },
  {
   "cell_type": "code",
   "execution_count": 158,
   "metadata": {},
   "outputs": [
    {
     "name": "stdout",
     "output_type": "stream",
     "text": [
      "[<div class=\"fh-wrapper\">\n",
      "\n",
      "<div class=\"breadcrumbs\">\n",
      "<div class=\"row breadcrumb\">\n",
      "<div class=\"col-md-12\">\n",
      "<ul>\n",
      "<li><a href=\"MESHFREE.html\">MESHFREE</a></li>\n",
      "</ul>\n",
      "</div>\n",
      "</div>\n",
      "</div>\n",
      "<div class=\"border-vertical\">\n",
      "<div class=\"row\">\n",
      "<div class=\"col-md-12 content\">\n",
      "<div class=\"jumbotron\">\n",
      "<h1>MESHFREE</h1><p> Online Documentation for MESHFREE </p>\n",
      "</div>\n",
      "<div class=\"description\">\n",
      "<h2 class=\"customh2\"> General information </h2>\n",
      "<p> The original method is called \n",
      "  <a href=\" https://www.itwm.fraunhofer.de/en/departments/tv/grid-free-methods.html \">Finite Pointset Method (FPM)</a> \n",
      "  and is an originary development of the \n",
      "  <a href=\" https://www.itwm.fraunhofer.de/en.html \">Fraunhofer Institute for Industrial Mathematics ITWM</a>. \n",
      "  The software <b>MESHFREE</b> couples FPM and the \n",
      "  <a href=\" https://www.scai.fraunhofer.de/en/products/software-samg.html \">algebraic multigrid method implemented in SAMG</a>, \n",
      "  an originary development of the \n",
      "  <a href=\" https://www.scai.fraunhofer.de/en.html \">Fraunhofer Institute for Algorithms and Scientific Computing SCAI</a>. \n",
      "  </p>\n",
      "<p> FPM is the deprecated name of the numerical simulation idea, publications of which can be found for example in \n",
      "  <a href=\" https://www.meshfree.eu/en/publications.html \">https://www.meshfree.eu/en/publications.html</a>. \n",
      "  Now and the in future, we prefer the name <em> Generalized Finite Difference Method (GFDM)</em>, \n",
      "  as this states exactly the character of the method \n",
      "  and avoids confusion with other ideas, also abbreviated as FPM. </p>\n",
      "<p> Note that FPM is still the name of several commercial software-instances outside of ITWM, putting the original FPM-ideas into practice. </p>\n",
      "<p> <b>MESHFREElite</b> is the original FPM-software without SAMG. </p>\n",
      "<h2 class=\"customh2\"> How to use <a href=\"MESHFREE.html\">MESHFREE</a> </h2> <ul><li>\n",
      "</li><li> <p> <a href=\"MESHFREE.InstallationGuide.html\">InstallationGuide</a>: install the software \n",
      "  </p> </li><li> <p> <a href=\"MESHFREE.GettingStarted.html\">GettingStarted</a>: first steps with <a href=\"MESHFREE.html\">MESHFREE</a>\n",
      "</p> </li><li> <p> <a href=\"MESHFREE.Releases.html\">Releases</a>: stay up-to-date with new/current developments \n",
      "  </p> </li><li> <p> <a href=\"MESHFREE.InputFiles.html\">InputFiles</a>: quick reference to all items and functionalities provided to the user \n",
      "  </p> </li><li> <p> <a href=\"MESHFREE.Indices.html\">Indices</a> and <a href=\"MESHFREE.__Constants__.html\">__Constants__</a>: quick reference to all predefined variables and constants \n",
      "  </p> </li><li> <p> <a href=\"MESHFREE.RunTimeTools.html\">RunTimeTools</a>: communication with a running simulation, performance measurements \n",
      "  </p> </li><li> <p> <a href=\"MESHFREE.Solvers.html\">Solvers</a>: underlying mathematical and numerical models \n",
      "  <p> </p></p></li><li> <p> <a href=\"MESHFREE.Interfaces.html\">Interfaces</a>: overview of possible couplings of <a href=\"MESHFREE.html\">MESHFREE</a> with other tools \n",
      "  </p> </li><li> <p> <a href=\"MESHFREE.MESHFREEdocu.html\">MESHFREEdocu</a>: quick reference for developers, how to contribute to this documentation \n",
      "  </p> </li><li> <p> information on how to compile <a href=\"MESHFREE.html\">MESHFREE</a> at ITWM moved to <a href=\" https://gitlab.itwm.fraunhofer.de/FPM/FPMsoftwareF95 \">FPMsoftwareF95</a> \n",
      "  (information on how to work with git can be found here: <a href=\" https://publicwiki-01.fraunhofer.de/FPM_Group/index.php/Version_Control_with_GIT \">Version Control with GIT</a>) \n",
      "  </p> </li><li> <a href=\"MESHFREE.Windows.html\">Windows</a> version: collection of information \n",
      "  </li></ul></div></div></div></div></div>]\n"
     ]
    }
   ],
   "source": [
    "print(div_fhwrapper)"
   ]
  },
  {
   "cell_type": "code",
   "execution_count": 147,
   "metadata": {},
   "outputs": [],
   "source": [
    "temp.clear()"
   ]
  },
  {
   "cell_type": "code",
   "execution_count": 148,
   "metadata": {},
   "outputs": [
    {
     "data": {
      "text/plain": []
     },
     "execution_count": 148,
     "metadata": {},
     "output_type": "execute_result"
    }
   ],
   "source": [
    "temp"
   ]
  },
  {
   "cell_type": "code",
   "execution_count": 122,
   "metadata": {},
   "outputs": [],
   "source": [
    "div_footer = div_fhwrapper.find(\"div\", {\"class\": \"blank-class-outer footer visible-md visible-lg\"})"
   ]
  },
  {
   "cell_type": "code",
   "execution_count": 123,
   "metadata": {},
   "outputs": [],
   "source": [
    "div_footer"
   ]
  },
  {
   "cell_type": "code",
   "execution_count": 141,
   "metadata": {},
   "outputs": [
    {
     "data": {
      "text/plain": [
       "<div class=\"fh-wrapper\"></div>"
      ]
     },
     "execution_count": 141,
     "metadata": {},
     "output_type": "execute_result"
    }
   ],
   "source": [
    "div_fhwrapper"
   ]
  },
  {
   "cell_type": "code",
   "execution_count": null,
   "metadata": {},
   "outputs": [],
   "source": []
  }
 ],
 "metadata": {
  "kernelspec": {
   "display_name": "Python 3",
   "language": "python",
   "name": "python3"
  },
  "language_info": {
   "codemirror_mode": {
    "name": "ipython",
    "version": 3
   },
   "file_extension": ".py",
   "mimetype": "text/x-python",
   "name": "python",
   "nbconvert_exporter": "python",
   "pygments_lexer": "ipython3",
   "version": "3.7.6"
  }
 },
 "nbformat": 4,
 "nbformat_minor": 4
}
